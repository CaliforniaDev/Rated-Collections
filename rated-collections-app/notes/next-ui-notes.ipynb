{
 "cells": [
  {
   "cell_type": "markdown",
   "metadata": {},
   "source": [
    "# Next UI: [Theme](https://nextui.org/docs/customization/theme)\n",
    "\n",
    "#### Theme Options\n",
    "\n",
    "These are the options that you can use to apply custom configs to you themes.\n",
    "\n",
    "```ts\n",
    "plugins[\n",
    "  nextui({\n",
    "    themes: {\n",
    "      light: {\n",
    "        layout: {},\n",
    "        colors: {},\n",
    "      },\n",
    "      dark: {\n",
    "        layout: {},\n",
    "        colors: {},\n",
    "      },\n",
    "    },\n",
    "  })\n",
    "];\n",
    "```\n"
   ]
  },
  {
   "cell_type": "code",
   "execution_count": null,
   "metadata": {
    "vscode": {
     "languageId": "javascript"
    }
   },
   "outputs": [],
   "source": [
    "/// colors used in navbar\n",
    "const themes = {\n",
    "  light: {\n",
    "    primary: '#2A6A47',\n",
    "    onPrimary: '#FFFFFF',\n",
    "    navbar: {\n",
    "      'bg-background': '#EAEFE8',\n",
    "      'text-forground': '#181D19',\n",
    "    },\n",
    "  },\n",
    "  dark: {\n",
    "    primary: '#93D5AA',\n",
    "    onPrimary: '#00391F',\n",
    "    navbar: {\n",
    "      'bg-background': '#1C211D',\n",
    "      'text-forground': '#DFE4DD',\n",
    "    },\n",
    "  },\n",
    "};\n"
   ]
  }
 ],
 "metadata": {
  "language_info": {
   "name": "python"
  }
 },
 "nbformat": 4,
 "nbformat_minor": 2
}
